{
 "cells": [
  {
   "cell_type": "code",
   "execution_count": 1,
   "metadata": {},
   "outputs": [
    {
     "name": "stdout",
     "output_type": "stream",
     "text": [
      "Normalized data: [[0.6277777777777778, 1.0], [0.6777777777777778, 0.7833333333333333], [0.6888888888888889, 0.3888888888888889], [0.17777777777777778, 0.8222222222222222], [0.0, 0.8833333333333333], [0.3055555555555556, 0.49444444444444446], [0.6777777777777778, 0.5555555555555556], [0.25, 0.9055555555555556], [0.37222222222222223, 0.45], [0.4166666666666667, 0.9777777777777777], [0.55, 0.8722222222222222], [0.5555555555555556, 0.25], [0.6888888888888889, 0.16111111111111112], [0.39444444444444443, 0.2222222222222222], [0.4388888888888889, 0.7055555555555556], [0.39444444444444443, 0.85], [0.3277777777777778, 0.6444444444444445], [0.8944444444444445, 0.08333333333333333], [0.23333333333333334, 0.2], [0.39444444444444443, 0.3333333333333333], [1.0, 0.4111111111111111], [0.7888888888888889, 0.5111111111111111], [0.4444444444444444, 0.027777777777777776], [0.10555555555555556, 0.05], [0.5166666666666667, 0.4666666666666667], [0.8055555555555556, 0.6277777777777778], [0.2611111111111111, 0.1111111111111111], [0.25, 0.0], [0.6166666666666667, 0.7]]\n",
      "Training data: [[0.6277777777777778, 1.0], [0.6777777777777778, 0.7833333333333333], [0.6888888888888889, 0.3888888888888889], [0.17777777777777778, 0.8222222222222222], [0.0, 0.8833333333333333], [0.3055555555555556, 0.49444444444444446], [0.6777777777777778, 0.5555555555555556], [0.25, 0.9055555555555556], [0.37222222222222223, 0.45], [0.4166666666666667, 0.9777777777777777], [0.55, 0.8722222222222222], [0.5555555555555556, 0.25], [0.6888888888888889, 0.16111111111111112], [0.39444444444444443, 0.2222222222222222], [0.4388888888888889, 0.7055555555555556], [0.39444444444444443, 0.85], [0.3277777777777778, 0.6444444444444445], [0.8944444444444445, 0.08333333333333333], [0.23333333333333334, 0.2], [0.39444444444444443, 0.3333333333333333], [1.0, 0.4111111111111111], [0.7888888888888889, 0.5111111111111111], [0.4444444444444444, 0.027777777777777776]]\n",
      "Test data: [[0.10555555555555556, 0.05], [0.5166666666666667, 0.4666666666666667], [0.8055555555555556, 0.6277777777777778], [0.2611111111111111, 0.1111111111111111], [0.25, 0.0], [0.6166666666666667, 0.7]]\n"
     ]
    }
   ],
   "source": [
    "import numpy as np\n",
    "\n",
    "def normalize_coordinates(data):\n",
    "    min_x = min(coord[0] for coord in data)\n",
    "    max_x = max(coord[0] for coord in data)\n",
    "    min_y = min(coord[1] for coord in data)\n",
    "    max_y = max(coord[1] for coord in data)\n",
    "\n",
    "    normalized_data = []\n",
    "    for coord in data:\n",
    "        x = (coord[0] - min_x) / (max_x - min_x)\n",
    "        y = (coord[1] - min_y) / (max_y - min_y)\n",
    "        normalized_data.append([x, y])\n",
    "\n",
    "    return normalized_data\n",
    "\n",
    "def split_data(data, train_ratio=0.8):\n",
    "    np.random.shuffle(data)\n",
    "    train_size = int(len(data) * train_ratio)\n",
    "    train_data = data[:train_size]\n",
    "    test_data = data[train_size:]\n",
    "    return train_data, test_data\n",
    "\n",
    "# Example usage\n",
    "data = [[1150.0, 1760.0], [630.0, 1660.0], [40.0, 2090.0], [750.0, 1100.0], [750.0, 2030.0],\n",
    "        [1030.0, 2070.0], [1650.0, 650.0], [1490.0, 1630.0], [790.0, 2260.0], [710.0, 1310.0],\n",
    "        [840.0, 550.0], [1170.0, 2300.0], [970.0, 1340.0], [510.0, 700.0], [750.0, 900.0],\n",
    "        [1280.0, 1200.0], [230.0, 590.0], [460.0, 860.0], [1040.0, 950.0], [590.0, 1390.0],\n",
    "        [830.0, 1770.0], [490.0, 500.0], [1840.0, 1240.0], [1260.0, 1500.0], [1280.0, 790.0],\n",
    "        [490.0, 2130.0], [1460.0, 1420.0], [1260.0, 1910.0], [360.0, 1980.0]]\n",
    "\n",
    "normalized_data = normalize_coordinates(data)\n",
    "train_data, test_data = split_data(normalized_data)\n",
    "\n",
    "print(f\"Normalized data: {normalized_data}\")\n",
    "print(f\"Training data: {train_data}\")\n",
    "print(f\"Test data: {test_data}\")"
   ]
  },
  {
   "cell_type": "code",
   "execution_count": 2,
   "metadata": {},
   "outputs": [
    {
     "name": "stdout",
     "output_type": "stream",
     "text": [
      "LSTMNetwork(\n",
      "  (lstm): LSTM(2, 64, num_layers=2, batch_first=True)\n",
      "  (fc): Linear(in_features=64, out_features=2, bias=True)\n",
      ")\n"
     ]
    }
   ],
   "source": [
    "import torch\n",
    "import torch.nn as nn\n",
    "\n",
    "# Define the LSTM network\n",
    "class LSTMNetwork(nn.Module):\n",
    "    def __init__(self, input_size, hidden_size, num_layers, output_size):\n",
    "        super(LSTMNetwork, self).__init__()\n",
    "        self.hidden_size = hidden_size\n",
    "        self.num_layers = num_layers\n",
    "        self.lstm = nn.LSTM(input_size, hidden_size, num_layers, batch_first=True)\n",
    "        self.fc = nn.Linear(hidden_size, output_size)\n",
    "\n",
    "    def forward(self, x):\n",
    "        h0 = torch.zeros(self.num_layers, x.size(0), self.hidden_size).to(x.device)\n",
    "        c0 = torch.zeros(self.num_layers, x.size(0), self.hidden_size).to(x.device)\n",
    "        out, _ = self.lstm(x, (h0, c0))\n",
    "        out = self.fc(out[:, -1, :])\n",
    "        return out\n",
    "\n",
    "# Define the input and output sizes\n",
    "input_size = 2  # Number of features in each input sample\n",
    "hidden_size = 64  # Number of hidden units in the LSTM layer\n",
    "num_layers = 2  # Number of LSTM layers\n",
    "output_size = 2  # Number of output classes\n",
    "\n",
    "# Create an instance of the LSTM network\n",
    "lstm_net = LSTMNetwork(input_size, hidden_size, num_layers, output_size)\n",
    "\n",
    "# Print the network architecture\n",
    "print(lstm_net)\n"
   ]
  },
  {
   "cell_type": "code",
   "execution_count": null,
   "metadata": {},
   "outputs": [],
   "source": []
  }
 ],
 "metadata": {
  "kernelspec": {
   "display_name": "pinn",
   "language": "python",
   "name": "python3"
  },
  "language_info": {
   "codemirror_mode": {
    "name": "ipython",
    "version": 3
   },
   "file_extension": ".py",
   "mimetype": "text/x-python",
   "name": "python",
   "nbconvert_exporter": "python",
   "pygments_lexer": "ipython3",
   "version": "3.11.7"
  }
 },
 "nbformat": 4,
 "nbformat_minor": 2
}
